{
 "cells": [
  {
   "cell_type": "code",
   "execution_count": 5,
   "metadata": {},
   "outputs": [],
   "source": [
    "from tabula import read_pdf"
   ]
  },
  {
   "cell_type": "code",
   "execution_count": 10,
   "metadata": {},
   "outputs": [],
   "source": [
    "df=read_pdf(\"List_of_countries_by_government_budget.pdf\")"
   ]
  },
  {
   "cell_type": "code",
   "execution_count": 11,
   "metadata": {},
   "outputs": [],
   "source": [
    "df"
   ]
  },
  {
   "cell_type": "code",
   "execution_count": 8,
   "metadata": {},
   "outputs": [
    {
     "name": "stdout",
     "output_type": "stream",
     "text": [
      "None\n"
     ]
    }
   ],
   "source": [
    "print(df)"
   ]
  },
  {
   "cell_type": "code",
   "execution_count": 9,
   "metadata": {},
   "outputs": [
    {
     "ename": "TypeError",
     "evalue": "unbound method get() must be called with WebDriver instance as first argument (got str instance instead)",
     "output_type": "error",
     "traceback": [
      "\u001b[0;31m\u001b[0m",
      "\u001b[0;31mTypeError\u001b[0mTraceback (most recent call last)",
      "\u001b[0;32m<ipython-input-9-fd92915633b1>\u001b[0m in \u001b[0;36m<module>\u001b[0;34m()\u001b[0m\n\u001b[1;32m     19\u001b[0m    \u001b[0;32mfor\u001b[0m \u001b[0mi\u001b[0m \u001b[0;32min\u001b[0m \u001b[0mrange\u001b[0m\u001b[0;34m(\u001b[0m\u001b[0mfirst_page\u001b[0m\u001b[0;34m,\u001b[0m \u001b[0mlast_page\u001b[0m\u001b[0;34m+\u001b[0m\u001b[0;36m1\u001b[0m\u001b[0;34m)\u001b[0m\u001b[0;34m:\u001b[0m\u001b[0;34m\u001b[0m\u001b[0m\n\u001b[1;32m     20\u001b[0m       \u001b[0mtarget_url\u001b[0m \u001b[0;34m=\u001b[0m \u001b[0mfifa_url\u001b[0m\u001b[0;34m.\u001b[0m\u001b[0mformat\u001b[0m\u001b[0;34m(\u001b[0m\u001b[0mi\u001b[0m\u001b[0;34m)\u001b[0m\u001b[0;34m\u001b[0m\u001b[0m\n\u001b[0;32m---> 21\u001b[0;31m       \u001b[0mdriver\u001b[0m\u001b[0;34m.\u001b[0m\u001b[0mget\u001b[0m\u001b[0;34m(\u001b[0m\u001b[0mtarget_url\u001b[0m\u001b[0;34m)\u001b[0m\u001b[0;34m\u001b[0m\u001b[0m\n\u001b[0m\u001b[1;32m     22\u001b[0m       \u001b[0mtime\u001b[0m\u001b[0;34m.\u001b[0m\u001b[0msleep\u001b[0m\u001b[0;34m(\u001b[0m\u001b[0;36m10\u001b[0m\u001b[0;34m)\u001b[0m\u001b[0;34m\u001b[0m\u001b[0m\n\u001b[1;32m     23\u001b[0m       \u001b[0mdriver\u001b[0m\u001b[0;34m.\u001b[0m\u001b[0mfind_element_by_link_text\u001b[0m\u001b[0;34m(\u001b[0m\u001b[0;34m'201-211'\u001b[0m\u001b[0;34m)\u001b[0m\u001b[0;34m.\u001b[0m\u001b[0mclick\u001b[0m\u001b[0;34m(\u001b[0m\u001b[0;34m)\u001b[0m\u001b[0;34m\u001b[0m\u001b[0m\n",
      "\u001b[0;31mTypeError\u001b[0m: unbound method get() must be called with WebDriver instance as first argument (got str instance instead)"
     ]
    }
   ],
   "source": [
    "# loading required packages\n",
    "import pandas as pd\n",
    "from bs4 import BeautifulSoup\n",
    "from selenium import webdriver\n",
    "import time\n",
    "import datetime\n",
    " \n",
    "# initializing needed variables\n",
    "fifa_url = 'https://www.fifa.com/fifa-world-ranking/ranking-table/men/rank/id12189/'\n",
    "first_page = 2\n",
    "last_page = 287\n",
    "list_downloaded_page = []\n",
    "full_data = []\n",
    " \n",
    "# launching chrome webdriver\n",
    "driver = webdriver.Chrome\n",
    " \n",
    "try:\n",
    "   for i in range(first_page, last_page+1):\n",
    "      target_url = fifa_url.format(i)\n",
    "      driver.get(target_url)\n",
    "      time.sleep(10)\n",
    "      driver.find_element_by_link_text('201-211').click()\n",
    "      time.sleep(3)\n",
    "      soup = BeautifulSoup(driver.page_source, 'html.parser')\n",
    "      time.sleep(1)\n",
    "      rank_date = soup.find('div', {'class':['slider-wrap']}).find('li').text.strip()\n",
    "      rank_date = datetime.datetime.strptime(rank_date, '%d %B %Y')\n",
    " \n",
    "      for table in soup.find_all('table', 'table tbl-ranking table-striped'):\n",
    "         for tr in table.find_all('tr', 'anchor'):\n",
    "            row_data = []\n",
    "            for td in tr.find_all('td'):\n",
    "               try:\n",
    "                  res = td.text.strip()\n",
    "                  row_data += [res]\n",
    "               except TypeError:\n",
    "                  pass\n",
    "            row_data += [rank_date]\n",
    "            full_data.append(row_data) \n",
    "finally:\n",
    "   driver.quit\n",
    "fifa_rank = pd.DataFrame(full_data)\n",
    "fifa_rank.to_csv('fifa_ranking.csv', index=False, encoding='utf-8')"
   ]
  },
  {
   "cell_type": "code",
   "execution_count": null,
   "metadata": {},
   "outputs": [],
   "source": []
  }
 ],
 "metadata": {
  "kernelspec": {
   "display_name": "Python 2",
   "language": "python",
   "name": "python2"
  },
  "language_info": {
   "codemirror_mode": {
    "name": "ipython",
    "version": 2
   },
   "file_extension": ".py",
   "mimetype": "text/x-python",
   "name": "python",
   "nbconvert_exporter": "python",
   "pygments_lexer": "ipython2",
   "version": "2.7.16"
  }
 },
 "nbformat": 4,
 "nbformat_minor": 2
}
