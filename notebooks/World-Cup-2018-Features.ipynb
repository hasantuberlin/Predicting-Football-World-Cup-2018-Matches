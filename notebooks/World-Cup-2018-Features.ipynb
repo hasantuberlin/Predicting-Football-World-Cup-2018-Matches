{
 "cells": [
  {
   "cell_type": "code",
   "execution_count": 273,
   "metadata": {
    "slideshow": {
     "slide_type": "slide"
    }
   },
   "outputs": [],
   "source": [
    "import pandas as pd\n",
    "import numpy as np\n",
    "from matplotlib import pyplot as plt\n",
    "import plotly.plotly as py\n",
    "import plotly\n",
    "import plotly.graph_objs as go\n",
    "from matplotlib import style\n",
    "from scipy import stats\n",
    "style.use('seaborn-deep')\n",
    "from datalab_beta import *\n",
    "import warnings\n",
    "warnings.filterwarnings('ignore')\n"
   ]
  },
  {
   "cell_type": "code",
   "execution_count": 274,
   "metadata": {},
   "outputs": [],
   "source": [
    "#integrate_features=pd.read_csv('FinalDataSet/spi_player_happiness.csv')\n",
    "#integrate_features=integrate_features.drop('Unnamed: 0', 1)\n",
    "#integrate_features.head()"
   ]
  },
  {
   "cell_type": "markdown",
   "metadata": {},
   "source": [
    "# Adding new features"
   ]
  },
  {
   "cell_type": "code",
   "execution_count": null,
   "metadata": {},
   "outputs": [],
   "source": []
  },
  {
   "cell_type": "markdown",
   "metadata": {},
   "source": [
    "final_data_set['power_index'] = final_data_set['power_index1']-final_data_set['power_index2']\n",
    "final_data_set['offensive'] = final_data_set['offensive1']-final_data_set['offensive2']\n",
    "final_data_set['defensive'] = final_data_set['defensive1']-final_data_set['defensive2']\n",
    "final_data_set['avg_players_appearance'] = final_data_set['avg_players_appearance1']-final_data_set['avg_players_appearance2']\n",
    "final_data_set['avg_players_goal1'] = final_data_set['avg_players_goal1']-final_data_set['avg_players_goal2']\n",
    "final_data_set['country_happiness_rank'] = final_data_set['country_happiness_rank1']-final_data_set['country_happiness_rank2']\n"
   ]
  },
  {
   "cell_type": "code",
   "execution_count": 275,
   "metadata": {},
   "outputs": [],
   "source": [
    "#final_data_set.to_csv('FinalDataSet/finaldata_V1.csv')"
   ]
  },
  {
   "cell_type": "markdown",
   "metadata": {},
   "source": [
    "# Load and prepare model_data"
   ]
  },
  {
   "cell_type": "code",
   "execution_count": 276,
   "metadata": {},
   "outputs": [
    {
     "data": {
      "text/html": [
       "<div>\n",
       "<style scoped>\n",
       "    .dataframe tbody tr th:only-of-type {\n",
       "        vertical-align: middle;\n",
       "    }\n",
       "\n",
       "    .dataframe tbody tr th {\n",
       "        vertical-align: top;\n",
       "    }\n",
       "\n",
       "    .dataframe thead th {\n",
       "        text-align: right;\n",
       "    }\n",
       "</style>\n",
       "<table border=\"1\" class=\"dataframe\">\n",
       "  <thead>\n",
       "    <tr style=\"text-align: right;\">\n",
       "      <th></th>\n",
       "      <th>fifa_rank1</th>\n",
       "      <th>gdp1</th>\n",
       "      <th>population1</th>\n",
       "      <th>avg_age1</th>\n",
       "      <th>elo1</th>\n",
       "      <th>star_count1</th>\n",
       "      <th>coach_performance1</th>\n",
       "      <th>home_country_adv1</th>\n",
       "      <th>home_continent_adv1</th>\n",
       "      <th>last_best_performance1</th>\n",
       "      <th>...</th>\n",
       "      <th>happiness_score2</th>\n",
       "      <th>life_expectancy2</th>\n",
       "      <th>freedom2</th>\n",
       "      <th>generosity2</th>\n",
       "      <th>goverment_corruption2</th>\n",
       "      <th>happiness_score</th>\n",
       "      <th>life_expectancy</th>\n",
       "      <th>freedom</th>\n",
       "      <th>generosity</th>\n",
       "      <th>goverment_corruption</th>\n",
       "    </tr>\n",
       "  </thead>\n",
       "  <tbody>\n",
       "    <tr>\n",
       "      <th>0</th>\n",
       "      <td>70.0</td>\n",
       "      <td>60.0</td>\n",
       "      <td>9.0</td>\n",
       "      <td>28.1</td>\n",
       "      <td>1697.0</td>\n",
       "      <td>1.0</td>\n",
       "      <td>32.0</td>\n",
       "      <td>1.0</td>\n",
       "      <td>1.0</td>\n",
       "      <td>14.0</td>\n",
       "      <td>...</td>\n",
       "      <td>6.344</td>\n",
       "      <td>0.590148</td>\n",
       "      <td>0.449751</td>\n",
       "      <td>0.147616</td>\n",
       "      <td>0.273432</td>\n",
       "      <td>-0.381</td>\n",
       "      <td>-0.042799</td>\n",
       "      <td>-0.075967</td>\n",
       "      <td>-0.095352</td>\n",
       "      <td>-0.240469</td>\n",
       "    </tr>\n",
       "    <tr>\n",
       "      <th>1</th>\n",
       "      <td>45.0</td>\n",
       "      <td>132.0</td>\n",
       "      <td>14.0</td>\n",
       "      <td>27.0</td>\n",
       "      <td>1659.0</td>\n",
       "      <td>1.0</td>\n",
       "      <td>15.0</td>\n",
       "      <td>0.0</td>\n",
       "      <td>0.0</td>\n",
       "      <td>51.0</td>\n",
       "      <td>...</td>\n",
       "      <td>6.454</td>\n",
       "      <td>0.719217</td>\n",
       "      <td>0.579392</td>\n",
       "      <td>0.175097</td>\n",
       "      <td>0.178062</td>\n",
       "      <td>-1.719</td>\n",
       "      <td>-0.199030</td>\n",
       "      <td>-0.297282</td>\n",
       "      <td>-0.046465</td>\n",
       "      <td>-0.063681</td>\n",
       "    </tr>\n",
       "    <tr>\n",
       "      <th>2</th>\n",
       "      <td>41.0</td>\n",
       "      <td>125.0</td>\n",
       "      <td>40.0</td>\n",
       "      <td>27.2</td>\n",
       "      <td>1691.0</td>\n",
       "      <td>0.0</td>\n",
       "      <td>8.0</td>\n",
       "      <td>0.0</td>\n",
       "      <td>0.0</td>\n",
       "      <td>39.0</td>\n",
       "      <td>...</td>\n",
       "      <td>4.692</td>\n",
       "      <td>0.639333</td>\n",
       "      <td>0.249323</td>\n",
       "      <td>0.387243</td>\n",
       "      <td>0.048761</td>\n",
       "      <td>0.543</td>\n",
       "      <td>-0.041623</td>\n",
       "      <td>0.158836</td>\n",
       "      <td>-0.355033</td>\n",
       "      <td>0.039002</td>\n",
       "    </tr>\n",
       "    <tr>\n",
       "      <th>3</th>\n",
       "      <td>4.0</td>\n",
       "      <td>36.0</td>\n",
       "      <td>84.0</td>\n",
       "      <td>27.7</td>\n",
       "      <td>1995.0</td>\n",
       "      <td>3.0</td>\n",
       "      <td>5.0</td>\n",
       "      <td>0.0</td>\n",
       "      <td>0.0</td>\n",
       "      <td>24.0</td>\n",
       "      <td>...</td>\n",
       "      <td>6.403</td>\n",
       "      <td>0.888961</td>\n",
       "      <td>0.408781</td>\n",
       "      <td>0.190134</td>\n",
       "      <td>0.070914</td>\n",
       "      <td>-1.208</td>\n",
       "      <td>-0.093117</td>\n",
       "      <td>0.089684</td>\n",
       "      <td>-0.095031</td>\n",
       "      <td>-0.055045</td>\n",
       "    </tr>\n",
       "    <tr>\n",
       "      <th>4</th>\n",
       "      <td>7.0</td>\n",
       "      <td>24.0</td>\n",
       "      <td>21.0</td>\n",
       "      <td>26.4</td>\n",
       "      <td>1989.0</td>\n",
       "      <td>5.0</td>\n",
       "      <td>12.0</td>\n",
       "      <td>0.0</td>\n",
       "      <td>1.0</td>\n",
       "      <td>7.0</td>\n",
       "      <td>...</td>\n",
       "      <td>7.284</td>\n",
       "      <td>0.843887</td>\n",
       "      <td>0.601607</td>\n",
       "      <td>0.477699</td>\n",
       "      <td>0.301184</td>\n",
       "      <td>-0.842</td>\n",
       "      <td>0.000579</td>\n",
       "      <td>-0.131385</td>\n",
       "      <td>-0.347937</td>\n",
       "      <td>-0.128681</td>\n",
       "    </tr>\n",
       "  </tbody>\n",
       "</table>\n",
       "<p>5 rows × 84 columns</p>\n",
       "</div>"
      ],
      "text/plain": [
       "   fifa_rank1   gdp1  population1  avg_age1    elo1  star_count1  \\\n",
       "0        70.0   60.0          9.0      28.1  1697.0          1.0   \n",
       "1        45.0  132.0         14.0      27.0  1659.0          1.0   \n",
       "2        41.0  125.0         40.0      27.2  1691.0          0.0   \n",
       "3         4.0   36.0         84.0      27.7  1995.0          3.0   \n",
       "4         7.0   24.0         21.0      26.4  1989.0          5.0   \n",
       "\n",
       "   coach_performance1  home_country_adv1  home_continent_adv1  \\\n",
       "0                32.0                1.0                  1.0   \n",
       "1                15.0                0.0                  0.0   \n",
       "2                 8.0                0.0                  0.0   \n",
       "3                 5.0                0.0                  0.0   \n",
       "4                12.0                0.0                  1.0   \n",
       "\n",
       "   last_best_performance1  ...  happiness_score2  life_expectancy2  freedom2  \\\n",
       "0                    14.0  ...             6.344          0.590148  0.449751   \n",
       "1                    51.0  ...             6.454          0.719217  0.579392   \n",
       "2                    39.0  ...             4.692          0.639333  0.249323   \n",
       "3                    24.0  ...             6.403          0.888961  0.408781   \n",
       "4                     7.0  ...             7.284          0.843887  0.601607   \n",
       "\n",
       "   generosity2  goverment_corruption2  happiness_score  life_expectancy  \\\n",
       "0     0.147616               0.273432           -0.381        -0.042799   \n",
       "1     0.175097               0.178062           -1.719        -0.199030   \n",
       "2     0.387243               0.048761            0.543        -0.041623   \n",
       "3     0.190134               0.070914           -1.208        -0.093117   \n",
       "4     0.477699               0.301184           -0.842         0.000579   \n",
       "\n",
       "    freedom  generosity  goverment_corruption  \n",
       "0 -0.075967   -0.095352             -0.240469  \n",
       "1 -0.297282   -0.046465             -0.063681  \n",
       "2  0.158836   -0.355033              0.039002  \n",
       "3  0.089684   -0.095031             -0.055045  \n",
       "4 -0.131385   -0.347937             -0.128681  \n",
       "\n",
       "[5 rows x 84 columns]"
      ]
     },
     "execution_count": 276,
     "metadata": {},
     "output_type": "execute_result"
    }
   ],
   "source": [
    "final_data_set=pd.read_csv('FinalDataSet/finaldata_V2_final.csv')\n",
    "final_data_set=final_data_set.drop('Unnamed: 0', 1)\n",
    "model_data = final_data_set\n",
    "model_data=model_data.drop('team_1', 1)\n",
    "model_data=model_data.drop('team_2', 1)\n",
    "model_data=model_data.drop('team_1_score', 1)\n",
    "model_data=model_data.drop('team_2_score', 1)\n",
    "model_data=model_data.drop('score', 1)\n",
    "model_data.head()"
   ]
  },
  {
   "cell_type": "code",
   "execution_count": 277,
   "metadata": {},
   "outputs": [],
   "source": [
    "#from xgboost import XGBClassifier\n",
    "from sklearn.metrics import accuracy_score\n",
    "from sklearn.ensemble import RandomForestClassifier\n",
    "from sklearn.linear_model import LogisticRegression\n",
    "from sklearn.neighbors import KNeighborsClassifier\n",
    "from sklearn.svm import SVC\n",
    "from sklearn.ensemble import VotingClassifier\n",
    "#from sklearn.model_selection import train_test_split"
   ]
  },
  {
   "cell_type": "code",
   "execution_count": 278,
   "metadata": {},
   "outputs": [],
   "source": [
    "def training(data, target_col='winner'):\n",
    "    features = data.drop(target_col, 1)\n",
    "    target = data[target_col]\n",
    "    x = to_array(features)\n",
    "    y = to_array(target)\n",
    "    #print(features)\n",
    "    return x, y"
   ]
  },
  {
   "cell_type": "code",
   "execution_count": 279,
   "metadata": {},
   "outputs": [],
   "source": [
    "def getAccuracy(data):\n",
    "    data.winner = data.winner.astype(np.float)\n",
    "    data.replace(np.inf, np.nan)\n",
    "    data = data.dropna()\n",
    "    data = data.sample(frac=1)\n",
    "    forw_train, forw_test = train_test_split(data, 0.2)\n",
    "    forw_train.reset_index(drop=True, inplace=True)\n",
    "    x_forw_train, y_forw_train = training(forw_train, target_col='winner')\n",
    "    #x_forw_test, y_forw_test = training(forw_test, target_col='winner')\n",
    "    \n",
    "    #forw_lr = LogisticRegression()\n",
    "    #forw_lr.fit(x_forw_train, y_forw_train)\n",
    "    #frow_lr_score=accuracy_score(y_forw_test, forw_lr.predict(x_forw_test))\n",
    "    \n",
    "    return x_forw_train,y_forw_train\n",
    "    "
   ]
  },
  {
   "cell_type": "code",
   "execution_count": 280,
   "metadata": {},
   "outputs": [
    {
     "data": {
      "text/html": [
       "<div>\n",
       "<style scoped>\n",
       "    .dataframe tbody tr th:only-of-type {\n",
       "        vertical-align: middle;\n",
       "    }\n",
       "\n",
       "    .dataframe tbody tr th {\n",
       "        vertical-align: top;\n",
       "    }\n",
       "\n",
       "    .dataframe thead th {\n",
       "        text-align: right;\n",
       "    }\n",
       "</style>\n",
       "<table border=\"1\" class=\"dataframe\">\n",
       "  <thead>\n",
       "    <tr style=\"text-align: right;\">\n",
       "      <th></th>\n",
       "      <th>fifa_rank</th>\n",
       "      <th>gdp</th>\n",
       "      <th>population</th>\n",
       "      <th>elo</th>\n",
       "      <th>avg_age</th>\n",
       "      <th>home_country_adv</th>\n",
       "      <th>home_continent_adv</th>\n",
       "      <th>last_best_performance</th>\n",
       "      <th>star_count</th>\n",
       "      <th>coach_performance</th>\n",
       "      <th>...</th>\n",
       "      <th>power_index</th>\n",
       "      <th>offensive</th>\n",
       "      <th>defensive</th>\n",
       "      <th>avg_players_appearance</th>\n",
       "      <th>country_happiness_rank</th>\n",
       "      <th>happiness_score</th>\n",
       "      <th>life_expectancy</th>\n",
       "      <th>freedom</th>\n",
       "      <th>generosity</th>\n",
       "      <th>goverment_corruption</th>\n",
       "    </tr>\n",
       "  </thead>\n",
       "  <tbody>\n",
       "    <tr>\n",
       "      <th>0</th>\n",
       "      <td>3.0</td>\n",
       "      <td>23.0</td>\n",
       "      <td>-38.0</td>\n",
       "      <td>123.0</td>\n",
       "      <td>-0.6</td>\n",
       "      <td>1.0</td>\n",
       "      <td>1.0</td>\n",
       "      <td>-19.0</td>\n",
       "      <td>1.0</td>\n",
       "      <td>23.0</td>\n",
       "      <td>...</td>\n",
       "      <td>18.80825</td>\n",
       "      <td>0.47091</td>\n",
       "      <td>-0.39738</td>\n",
       "      <td>-5.782609</td>\n",
       "      <td>12.0</td>\n",
       "      <td>-0.381</td>\n",
       "      <td>-0.042799</td>\n",
       "      <td>-0.075967</td>\n",
       "      <td>-0.095352</td>\n",
       "      <td>-0.240469</td>\n",
       "    </tr>\n",
       "    <tr>\n",
       "      <th>1</th>\n",
       "      <td>31.0</td>\n",
       "      <td>87.0</td>\n",
       "      <td>-119.0</td>\n",
       "      <td>-207.0</td>\n",
       "      <td>-1.7</td>\n",
       "      <td>0.0</td>\n",
       "      <td>0.0</td>\n",
       "      <td>41.0</td>\n",
       "      <td>-2.0</td>\n",
       "      <td>8.0</td>\n",
       "      <td>...</td>\n",
       "      <td>-17.06127</td>\n",
       "      <td>-0.67722</td>\n",
       "      <td>0.23369</td>\n",
       "      <td>-4.956522</td>\n",
       "      <td>76.0</td>\n",
       "      <td>-1.719</td>\n",
       "      <td>-0.199030</td>\n",
       "      <td>-0.297282</td>\n",
       "      <td>-0.046465</td>\n",
       "      <td>-0.063681</td>\n",
       "    </tr>\n",
       "    <tr>\n",
       "      <th>2</th>\n",
       "      <td>4.0</td>\n",
       "      <td>33.0</td>\n",
       "      <td>23.0</td>\n",
       "      <td>-108.0</td>\n",
       "      <td>0.7</td>\n",
       "      <td>0.0</td>\n",
       "      <td>0.0</td>\n",
       "      <td>3.0</td>\n",
       "      <td>0.0</td>\n",
       "      <td>-6.0</td>\n",
       "      <td>...</td>\n",
       "      <td>6.76310</td>\n",
       "      <td>0.26632</td>\n",
       "      <td>-0.06961</td>\n",
       "      <td>-6.478261</td>\n",
       "      <td>-24.0</td>\n",
       "      <td>0.543</td>\n",
       "      <td>-0.041623</td>\n",
       "      <td>0.158836</td>\n",
       "      <td>-0.355033</td>\n",
       "      <td>0.039002</td>\n",
       "    </tr>\n",
       "    <tr>\n",
       "      <th>3</th>\n",
       "      <td>-6.0</td>\n",
       "      <td>5.0</td>\n",
       "      <td>56.0</td>\n",
       "      <td>-36.0</td>\n",
       "      <td>-0.3</td>\n",
       "      <td>0.0</td>\n",
       "      <td>-1.0</td>\n",
       "      <td>18.0</td>\n",
       "      <td>-3.0</td>\n",
       "      <td>1.0</td>\n",
       "      <td>...</td>\n",
       "      <td>-7.83635</td>\n",
       "      <td>-0.80766</td>\n",
       "      <td>0.04286</td>\n",
       "      <td>-2.695652</td>\n",
       "      <td>55.0</td>\n",
       "      <td>-1.208</td>\n",
       "      <td>-0.093117</td>\n",
       "      <td>0.089684</td>\n",
       "      <td>-0.095031</td>\n",
       "      <td>-0.055045</td>\n",
       "    </tr>\n",
       "    <tr>\n",
       "      <th>4</th>\n",
       "      <td>-29.0</td>\n",
       "      <td>14.0</td>\n",
       "      <td>-35.0</td>\n",
       "      <td>262.0</td>\n",
       "      <td>-0.5</td>\n",
       "      <td>0.0</td>\n",
       "      <td>1.0</td>\n",
       "      <td>-25.0</td>\n",
       "      <td>5.0</td>\n",
       "      <td>-11.0</td>\n",
       "      <td>...</td>\n",
       "      <td>25.49134</td>\n",
       "      <td>1.09352</td>\n",
       "      <td>-0.47746</td>\n",
       "      <td>-3.782609</td>\n",
       "      <td>21.0</td>\n",
       "      <td>-0.842</td>\n",
       "      <td>0.000579</td>\n",
       "      <td>-0.131385</td>\n",
       "      <td>-0.347937</td>\n",
       "      <td>-0.128681</td>\n",
       "    </tr>\n",
       "  </tbody>\n",
       "</table>\n",
       "<p>5 rows × 28 columns</p>\n",
       "</div>"
      ],
      "text/plain": [
       "   fifa_rank   gdp  population    elo  avg_age  home_country_adv  \\\n",
       "0        3.0  23.0       -38.0  123.0     -0.6               1.0   \n",
       "1       31.0  87.0      -119.0 -207.0     -1.7               0.0   \n",
       "2        4.0  33.0        23.0 -108.0      0.7               0.0   \n",
       "3       -6.0   5.0        56.0  -36.0     -0.3               0.0   \n",
       "4      -29.0  14.0       -35.0  262.0     -0.5               0.0   \n",
       "\n",
       "   home_continent_adv  last_best_performance  star_count  coach_performance  \\\n",
       "0                 1.0                  -19.0         1.0               23.0   \n",
       "1                 0.0                   41.0        -2.0                8.0   \n",
       "2                 0.0                    3.0         0.0               -6.0   \n",
       "3                -1.0                   18.0        -3.0                1.0   \n",
       "4                 1.0                  -25.0         5.0              -11.0   \n",
       "\n",
       "   ...  power_index  offensive  defensive  avg_players_appearance  \\\n",
       "0  ...     18.80825    0.47091   -0.39738               -5.782609   \n",
       "1  ...    -17.06127   -0.67722    0.23369               -4.956522   \n",
       "2  ...      6.76310    0.26632   -0.06961               -6.478261   \n",
       "3  ...     -7.83635   -0.80766    0.04286               -2.695652   \n",
       "4  ...     25.49134    1.09352   -0.47746               -3.782609   \n",
       "\n",
       "   country_happiness_rank  happiness_score  life_expectancy   freedom  \\\n",
       "0                    12.0           -0.381        -0.042799 -0.075967   \n",
       "1                    76.0           -1.719        -0.199030 -0.297282   \n",
       "2                   -24.0            0.543        -0.041623  0.158836   \n",
       "3                    55.0           -1.208        -0.093117  0.089684   \n",
       "4                    21.0           -0.842         0.000579 -0.131385   \n",
       "\n",
       "   generosity  goverment_corruption  \n",
       "0   -0.095352             -0.240469  \n",
       "1   -0.046465             -0.063681  \n",
       "2   -0.355033              0.039002  \n",
       "3   -0.095031             -0.055045  \n",
       "4   -0.347937             -0.128681  \n",
       "\n",
       "[5 rows x 28 columns]"
      ]
     },
     "execution_count": 280,
     "metadata": {},
     "output_type": "execute_result"
    }
   ],
   "source": [
    "feature_data = model_data[['fifa_rank','gdp','population','elo','avg_age','home_country_adv','home_continent_adv','last_best_performance','star_count','coach_performance','final','semi','foreign_club','att','def','mid','ovr','winner','power_index','offensive','defensive','avg_players_appearance','country_happiness_rank','happiness_score','life_expectancy','freedom','generosity','goverment_corruption'\n",
    "]]\n",
    "feature_data.head(5)"
   ]
  },
  {
   "cell_type": "markdown",
   "metadata": {},
   "source": [
    " # Feature Comparison\n",
    "   ## Recursive Feature Elimination (REF)\n",
    "   \n",
    "\n",
    " "
   ]
  },
  {
   "cell_type": "code",
   "execution_count": 281,
   "metadata": {},
   "outputs": [
    {
     "name": "stdout",
     "output_type": "stream",
     "text": [
      "[ True  True  True]\n",
      "[1 1 1]\n"
     ]
    }
   ],
   "source": [
    "from sklearn.feature_selection import RFE\n",
    "\n",
    "data, target = getAccuracy(feature_data)\n",
    "model = LogisticRegression()\n",
    "#print(data)\n",
    "rfe = RFE(model, 3)\n",
    "#Transforming data using RFE\n",
    "X_rfe = rfe.fit_transform(data,target)\n",
    "rfe = rfe.fit(X_rfe,target)\n",
    "# summarize the selection of the attributes\n",
    "print(rfe.support_)\n",
    "print(rfe.ranking_)\n"
   ]
  },
  {
   "cell_type": "code",
   "execution_count": 271,
   "metadata": {},
   "outputs": [
    {
     "name": "stdout",
     "output_type": "stream",
     "text": [
      "Optimum number of features: 8\n",
      "Score with 8 features: 0.353442\n"
     ]
    }
   ],
   "source": [
    "from sklearn.model_selection import train_test_split\n",
    "from sklearn.linear_model import LinearRegression\n",
    "from sklearn.feature_selection import RFE\n",
    "#no of features\n",
    "nof_list=np.arange(1,26) \n",
    "\n",
    "high_score=0\n",
    "\n",
    "back_rev_elim_data = feature_data\n",
    "y = back_rev_elim_data[['winner']]\n",
    "X = back_rev_elim_data.drop(\"winner\",1)\n",
    "#cols = list(X.columns)\n",
    "#Variable to store the optimum features\n",
    "nof=0           \n",
    "score_list =[]\n",
    "for n in range(len(nof_list)):\n",
    "    X_train, X_test, y_train, y_test = train_test_split(X,y, test_size = 0.3, random_state = 0)\n",
    "    model = LinearRegression()\n",
    "    rfe = RFE(model,nof_list[n])\n",
    "    X_train_rfe = rfe.fit_transform(X_train,y_train)\n",
    "    X_test_rfe = rfe.transform(X_test)\n",
    "    model.fit(X_train_rfe,y_train)\n",
    "    score = model.score(X_test_rfe,y_test)\n",
    "    score_list.append(score)\n",
    "    if(score>high_score):\n",
    "        high_score = score\n",
    "        nof = nof_list[n]\n",
    "print(\"Optimum number of features: %d\" %nof)\n",
    "print(\"Score with %d features: %f\" % (nof, high_score))\n"
   ]
  },
  {
   "cell_type": "code",
   "execution_count": 243,
   "metadata": {},
   "outputs": [
    {
     "name": "stdout",
     "output_type": "stream",
     "text": [
      "Index(['home_country_adv', 'att', 'ovr', 'defensive', 'happiness_score',\n",
      "       'freedom', 'generosity', 'goverment_corruption'],\n",
      "      dtype='object')\n"
     ]
    }
   ],
   "source": [
    "back_rev_elim_data = feature_data\n",
    "y = back_rev_elim_data[['winner']]\n",
    "X = back_rev_elim_data.drop(\"winner\",1)\n",
    "cols = list(X.columns)\n",
    "model = LinearRegression()\n",
    "#Initializing RFE model\n",
    "rfe = RFE(model, 8)             \n",
    "#Transforming data using RFE\n",
    "X_rfe = rfe.fit_transform(X,y)  \n",
    "#Fitting the data to model\n",
    "model.fit(X_rfe,y)              \n",
    "temp = pd.Series(rfe.support_,index = cols)\n",
    "selected_features_rfe = temp[temp==True].index\n",
    "print(selected_features_rfe)"
   ]
  },
  {
   "cell_type": "markdown",
   "metadata": {},
   "source": [
    "# Feature Comparison\n",
    "  ## Ranking of features based on importance\n"
   ]
  },
  {
   "cell_type": "code",
   "execution_count": 282,
   "metadata": {},
   "outputs": [
    {
     "name": "stdout",
     "output_type": "stream",
     "text": [
      "Feature ranking:\n",
      "1. feature 8 (0.075426)\n",
      "2. feature 17 (0.072413)\n",
      "3. feature 13 (0.065091)\n",
      "4. feature 16 (0.061095)\n",
      "5. feature 7 (0.048264)\n",
      "6. feature 23 (0.047726)\n",
      "7. feature 21 (0.045763)\n",
      "8. feature 15 (0.038612)\n",
      "9. feature 19 (0.038086)\n",
      "10. feature 9 (0.037978)\n",
      "11. feature 0 (0.036142)\n",
      "12. feature 2 (0.035847)\n",
      "13. feature 3 (0.034853)\n",
      "14. feature 10 (0.033766)\n",
      "15. feature 14 (0.033513)\n",
      "16. feature 12 (0.033122)\n",
      "17. feature 20 (0.031951)\n",
      "18. feature 24 (0.031923)\n",
      "19. feature 26 (0.031896)\n",
      "20. feature 18 (0.031459)\n",
      "21. feature 25 (0.023314)\n",
      "22. feature 11 (0.023079)\n",
      "23. feature 22 (0.022558)\n",
      "24. feature 1 (0.020276)\n",
      "25. feature 6 (0.020223)\n",
      "26. feature 4 (0.018367)\n",
      "27. feature 5 (0.007257)\n"
     ]
    }
   ],
   "source": [
    "from sklearn.ensemble import ExtraTreesClassifier\n",
    "# fit an Extra Trees model to the data\n",
    "#print(feature_data)\n",
    "#feature_data = model_data[[''],'']\n",
    "data, target = getAccuracy(feature_data)\n",
    "model = ExtraTreesClassifier()\n",
    "model.fit(data, target)\n",
    "std = np.std([tree.feature_importances_ for tree in model.estimators_],\n",
    "             axis=0)\n",
    "# display the relative importance of each attribute\n",
    "important_features = model.feature_importances_\n",
    "#print(important_features)\n",
    "indices = np.argsort(important_features)[::-1]\n",
    "# Print the feature ranking\n",
    "print(\"Feature ranking:\")\n",
    "\n",
    "for f in range(data.shape[1]):\n",
    "    print(\"%d. feature %d (%f)\" % (f + 1, indices[f], important_features[indices[f]]))\n",
    "    \n",
    "#model_data.head(0)\n",
    "\n",
    "#headers = feature_data.head(0)\n",
    "\n",
    "    \n",
    "    "
   ]
  },
  {
   "cell_type": "code",
   "execution_count": 283,
   "metadata": {},
   "outputs": [
    {
     "data": {
      "image/png": "[encoded data removed]",
      "text/plain": [
       "<Figure size 432x288 with 1 Axes>"
      ]
     },
     "metadata": {
      "needs_background": "light"
     },
     "output_type": "display_data"
    }
   ],
   "source": [
    "# Plot the feature importances of the forest\n",
    "plt.figure()\n",
    "plt.title(\"Feature importances\")\n",
    "plt.bar(range(data.shape[1]), important_features[indices],\n",
    "       color=\"r\", yerr=std[indices], align=\"center\")\n",
    "plt.xticks(range(data.shape[1]), indices)\n",
    "plt.xlim([-1, data.shape[1]])\n",
    "plt.show()\n"
   ]
  },
  {
   "cell_type": "markdown",
   "metadata": {},
   "source": [
    "# Feature Comparison :\n",
    "   ## Backward Elimination\n",
    "       "
   ]
  },
  {
   "cell_type": "code",
   "execution_count": 284,
   "metadata": {},
   "outputs": [
    {
     "name": "stdout",
     "output_type": "stream",
     "text": [
      "['fifa_rank', 'population', 'semi', 'att', 'mid', 'offensive', 'freedom', 'goverment_corruption']\n"
     ]
    }
   ],
   "source": [
    "import statsmodels.api as sm\n",
    "\n",
    "back_elim_data = feature_data\n",
    "y = back_elim_data[['winner']]\n",
    "X = back_elim_data.drop(\"winner\",1)\n",
    "\n",
    "cols = list(X.columns)\n",
    "#print(cols)\n",
    "pmax = 1\n",
    "while (len(cols)>0):\n",
    "    p= []\n",
    "    X_1 = X[cols]\n",
    "    X_1 = sm.add_constant(X_1)\n",
    "    model = sm.OLS(y,X_1).fit()\n",
    "    p = pd.Series(model.pvalues.values[1:],index = cols)      \n",
    "    pmax = max(p)\n",
    "    feature_with_p_max = p.idxmax()\n",
    "    if(pmax>0.05):\n",
    "        cols.remove(feature_with_p_max)\n",
    "    else:\n",
    "        break\n",
    "\n",
    "selected_features_BE = cols\n",
    "print(selected_features_BE)\n",
    "        "
   ]
  },
  {
   "cell_type": "code",
   "execution_count": null,
   "metadata": {},
   "outputs": [],
   "source": []
  },
  {
   "cell_type": "markdown",
   "metadata": {},
   "source": [
    "# Feature Comparison :\n",
    "   ## Single feature elemination \n",
    "  ( backward selection , remove worst feature)\n",
    "       Testing each feature accuracy after eliminating from full feature set"
   ]
  },
  {
   "cell_type": "code",
   "execution_count": null,
   "metadata": {},
   "outputs": [],
   "source": []
  },
  {
   "cell_type": "code",
   "execution_count": null,
   "metadata": {},
   "outputs": [],
   "source": []
  },
  {
   "cell_type": "code",
   "execution_count": 247,
   "metadata": {},
   "outputs": [
    {
     "data": {
      "text/html": [
       "<div>\n",
       "<style scoped>\n",
       "    .dataframe tbody tr th:only-of-type {\n",
       "        vertical-align: middle;\n",
       "    }\n",
       "\n",
       "    .dataframe tbody tr th {\n",
       "        vertical-align: top;\n",
       "    }\n",
       "\n",
       "    .dataframe thead th {\n",
       "        text-align: right;\n",
       "    }\n",
       "</style>\n",
       "<table border=\"1\" class=\"dataframe\">\n",
       "  <thead>\n",
       "    <tr style=\"text-align: right;\">\n",
       "      <th></th>\n",
       "      <th>fifa_rank1</th>\n",
       "      <th>gdp1</th>\n",
       "      <th>population1</th>\n",
       "      <th>avg_age1</th>\n",
       "      <th>elo1</th>\n",
       "      <th>star_count1</th>\n",
       "      <th>coach_performance1</th>\n",
       "      <th>home_country_adv1</th>\n",
       "      <th>home_continent_adv1</th>\n",
       "      <th>last_best_performance1</th>\n",
       "      <th>...</th>\n",
       "      <th>happiness_score2</th>\n",
       "      <th>life_expectancy2</th>\n",
       "      <th>freedom2</th>\n",
       "      <th>generosity2</th>\n",
       "      <th>goverment_corruption2</th>\n",
       "      <th>happiness_score</th>\n",
       "      <th>life_expectancy</th>\n",
       "      <th>freedom</th>\n",
       "      <th>generosity</th>\n",
       "      <th>goverment_corruption</th>\n",
       "    </tr>\n",
       "  </thead>\n",
       "  <tbody>\n",
       "    <tr>\n",
       "      <th>0</th>\n",
       "      <td>70.0</td>\n",
       "      <td>60.0</td>\n",
       "      <td>9.0</td>\n",
       "      <td>28.1</td>\n",
       "      <td>1697.0</td>\n",
       "      <td>1.0</td>\n",
       "      <td>32.0</td>\n",
       "      <td>1.0</td>\n",
       "      <td>1.0</td>\n",
       "      <td>14.0</td>\n",
       "      <td>...</td>\n",
       "      <td>6.344</td>\n",
       "      <td>0.590148</td>\n",
       "      <td>0.449751</td>\n",
       "      <td>0.147616</td>\n",
       "      <td>0.273432</td>\n",
       "      <td>-0.381</td>\n",
       "      <td>-0.042799</td>\n",
       "      <td>-0.075967</td>\n",
       "      <td>-0.095352</td>\n",
       "      <td>-0.240469</td>\n",
       "    </tr>\n",
       "    <tr>\n",
       "      <th>1</th>\n",
       "      <td>45.0</td>\n",
       "      <td>132.0</td>\n",
       "      <td>14.0</td>\n",
       "      <td>27.0</td>\n",
       "      <td>1659.0</td>\n",
       "      <td>1.0</td>\n",
       "      <td>15.0</td>\n",
       "      <td>0.0</td>\n",
       "      <td>0.0</td>\n",
       "      <td>51.0</td>\n",
       "      <td>...</td>\n",
       "      <td>6.454</td>\n",
       "      <td>0.719217</td>\n",
       "      <td>0.579392</td>\n",
       "      <td>0.175097</td>\n",
       "      <td>0.178062</td>\n",
       "      <td>-1.719</td>\n",
       "      <td>-0.199030</td>\n",
       "      <td>-0.297282</td>\n",
       "      <td>-0.046465</td>\n",
       "      <td>-0.063681</td>\n",
       "    </tr>\n",
       "    <tr>\n",
       "      <th>2</th>\n",
       "      <td>41.0</td>\n",
       "      <td>125.0</td>\n",
       "      <td>40.0</td>\n",
       "      <td>27.2</td>\n",
       "      <td>1691.0</td>\n",
       "      <td>0.0</td>\n",
       "      <td>8.0</td>\n",
       "      <td>0.0</td>\n",
       "      <td>0.0</td>\n",
       "      <td>39.0</td>\n",
       "      <td>...</td>\n",
       "      <td>4.692</td>\n",
       "      <td>0.639333</td>\n",
       "      <td>0.249323</td>\n",
       "      <td>0.387243</td>\n",
       "      <td>0.048761</td>\n",
       "      <td>0.543</td>\n",
       "      <td>-0.041623</td>\n",
       "      <td>0.158836</td>\n",
       "      <td>-0.355033</td>\n",
       "      <td>0.039002</td>\n",
       "    </tr>\n",
       "    <tr>\n",
       "      <th>3</th>\n",
       "      <td>4.0</td>\n",
       "      <td>36.0</td>\n",
       "      <td>84.0</td>\n",
       "      <td>27.7</td>\n",
       "      <td>1995.0</td>\n",
       "      <td>3.0</td>\n",
       "      <td>5.0</td>\n",
       "      <td>0.0</td>\n",
       "      <td>0.0</td>\n",
       "      <td>24.0</td>\n",
       "      <td>...</td>\n",
       "      <td>6.403</td>\n",
       "      <td>0.888961</td>\n",
       "      <td>0.408781</td>\n",
       "      <td>0.190134</td>\n",
       "      <td>0.070914</td>\n",
       "      <td>-1.208</td>\n",
       "      <td>-0.093117</td>\n",
       "      <td>0.089684</td>\n",
       "      <td>-0.095031</td>\n",
       "      <td>-0.055045</td>\n",
       "    </tr>\n",
       "    <tr>\n",
       "      <th>4</th>\n",
       "      <td>7.0</td>\n",
       "      <td>24.0</td>\n",
       "      <td>21.0</td>\n",
       "      <td>26.4</td>\n",
       "      <td>1989.0</td>\n",
       "      <td>5.0</td>\n",
       "      <td>12.0</td>\n",
       "      <td>0.0</td>\n",
       "      <td>1.0</td>\n",
       "      <td>7.0</td>\n",
       "      <td>...</td>\n",
       "      <td>7.284</td>\n",
       "      <td>0.843887</td>\n",
       "      <td>0.601607</td>\n",
       "      <td>0.477699</td>\n",
       "      <td>0.301184</td>\n",
       "      <td>-0.842</td>\n",
       "      <td>0.000579</td>\n",
       "      <td>-0.131385</td>\n",
       "      <td>-0.347937</td>\n",
       "      <td>-0.128681</td>\n",
       "    </tr>\n",
       "  </tbody>\n",
       "</table>\n",
       "<p>5 rows × 84 columns</p>\n",
       "</div>"
      ],
      "text/plain": [
       "   fifa_rank1   gdp1  population1  avg_age1    elo1  star_count1  \\\n",
       "0        70.0   60.0          9.0      28.1  1697.0          1.0   \n",
       "1        45.0  132.0         14.0      27.0  1659.0          1.0   \n",
       "2        41.0  125.0         40.0      27.2  1691.0          0.0   \n",
       "3         4.0   36.0         84.0      27.7  1995.0          3.0   \n",
       "4         7.0   24.0         21.0      26.4  1989.0          5.0   \n",
       "\n",
       "   coach_performance1  home_country_adv1  home_continent_adv1  \\\n",
       "0                32.0                1.0                  1.0   \n",
       "1                15.0                0.0                  0.0   \n",
       "2                 8.0                0.0                  0.0   \n",
       "3                 5.0                0.0                  0.0   \n",
       "4                12.0                0.0                  1.0   \n",
       "\n",
       "   last_best_performance1  ...  happiness_score2  life_expectancy2  freedom2  \\\n",
       "0                    14.0  ...             6.344          0.590148  0.449751   \n",
       "1                    51.0  ...             6.454          0.719217  0.579392   \n",
       "2                    39.0  ...             4.692          0.639333  0.249323   \n",
       "3                    24.0  ...             6.403          0.888961  0.408781   \n",
       "4                     7.0  ...             7.284          0.843887  0.601607   \n",
       "\n",
       "   generosity2  goverment_corruption2  happiness_score  life_expectancy  \\\n",
       "0     0.147616               0.273432           -0.381        -0.042799   \n",
       "1     0.175097               0.178062           -1.719        -0.199030   \n",
       "2     0.387243               0.048761            0.543        -0.041623   \n",
       "3     0.190134               0.070914           -1.208        -0.093117   \n",
       "4     0.477699               0.301184           -0.842         0.000579   \n",
       "\n",
       "    freedom  generosity  goverment_corruption  \n",
       "0 -0.075967   -0.095352             -0.240469  \n",
       "1 -0.297282   -0.046465             -0.063681  \n",
       "2  0.158836   -0.355033              0.039002  \n",
       "3  0.089684   -0.095031             -0.055045  \n",
       "4 -0.131385   -0.347937             -0.128681  \n",
       "\n",
       "[5 rows x 84 columns]"
      ]
     },
     "execution_count": 247,
     "metadata": {},
     "output_type": "execute_result"
    }
   ],
   "source": [
    "#model_data.head(0)\n",
    "#model_data=model_data.drop('team_1_score', 1)\n",
    "#model_data=model_data.drop('team_2_score', 1)\n",
    "#model_data=model_data.drop('score', 1)\n",
    "model_data.head()"
   ]
  },
  {
   "cell_type": "code",
   "execution_count": 221,
   "metadata": {},
   "outputs": [],
   "source": [
    "#model_data.winner = model_data.winner.apply(to_float)\n",
    "\n",
    "model_data.winner = model_data.winner.astype(np.float)\n",
    "model_data.replace(np.inf, np.nan)\n",
    "model_data = model_data.dropna()\n",
    "model_data = model_data.sample(frac=1)\n",
    "\n",
    "train, test = train_test_split(model_data, 0.2)\n",
    "train.reset_index(drop=True, inplace=True)\n",
    "x_train, y_train = training(train, target_col='winner')\n",
    "x_test, y_test = training(test, target_col='winner')\n",
    "\n",
    "\n",
    "\n",
    "\n"
   ]
  },
  {
   "cell_type": "code",
   "execution_count": 222,
   "metadata": {},
   "outputs": [
    {
     "name": "stdout",
     "output_type": "stream",
     "text": [
      "(77, 68)\n",
      "(19, 68)\n"
     ]
    }
   ],
   "source": [
    "print (x_train.shape)\n",
    "print (x_test.shape)\n"
   ]
  },
  {
   "cell_type": "markdown",
   "metadata": {},
   "source": [
    "# Train with LogisticRegression"
   ]
  },
  {
   "cell_type": "code",
   "execution_count": 99,
   "metadata": {},
   "outputs": [],
   "source": [
    "lr = LogisticRegression()\n",
    "lr.fit(x_train, y_train)\n",
    "lr_score=accuracy_score(y_test, lr.predict(x_test))\n",
    "lr_score=float('%.2f' %lr_score)"
   ]
  },
  {
   "cell_type": "markdown",
   "metadata": {},
   "source": [
    "# Train with RandomForestClassifier"
   ]
  },
  {
   "cell_type": "code",
   "execution_count": 100,
   "metadata": {},
   "outputs": [],
   "source": [
    "rf = RandomForestClassifier()\n",
    "rf.fit(x_train, y_train)\n",
    "rf_score=accuracy_score(y_test, rf.predict(x_test))\n",
    "rf_score=float('%.2f' %rf_score)"
   ]
  },
  {
   "cell_type": "markdown",
   "metadata": {},
   "source": [
    "# Train with Support Vector"
   ]
  },
  {
   "cell_type": "code",
   "execution_count": 101,
   "metadata": {},
   "outputs": [],
   "source": [
    "svc = SVC(kernel='linear')\n",
    "svc.fit(x_train, y_train)\n",
    "svc_score=accuracy_score(y_test, svc.predict(x_test))\n",
    "svc_score=float('%.2f' %svc_score)"
   ]
  },
  {
   "cell_type": "markdown",
   "metadata": {},
   "source": [
    "# Model comparison"
   ]
  },
  {
   "cell_type": "code",
   "execution_count": 102,
   "metadata": {},
   "outputs": [
    {
     "data": {
      "image/png": "[encoded data removed]",
      "text/plain": [
       "<Figure size 432x288 with 1 Axes>"
      ]
     },
     "metadata": {
      "needs_background": "light"
     },
     "output_type": "display_data"
    }
   ],
   "source": [
    "label=['LR','RF','SVC']\n",
    "score=[lr_score,rf_score,svc_score]\n",
    "index = np.arange(len(label))\n",
    "plt.bar(index, score)\n",
    "plt.xlabel('Model', fontsize=50)\n",
    "plt.ylabel('Score', fontsize=50)\n",
    "plt.xticks(index, label, fontsize=30, rotation=30)\n",
    "plt.title('Model comparison')\n",
    "for a,b in zip(index, score):\n",
    "    plt.text(a, b, str(b))\n",
    "plt.ylim(0, 1)\n",
    "plt.show()"
   ]
  },
  {
   "cell_type": "markdown",
   "metadata": {},
   "source": [
    "# Leave one out cross validation (LOOCV)"
   ]
  },
  {
   "cell_type": "code",
   "execution_count": 103,
   "metadata": {},
   "outputs": [
    {
     "name": "stdout",
     "output_type": "stream",
     "text": [
      "Accuracy: 45.833%\n"
     ]
    }
   ],
   "source": [
    "# Evaluate using Leave One Out Cross Validation\n",
    "import pandas\n",
    "from sklearn import model_selection\n",
    "from sklearn.linear_model import LogisticRegression\n",
    "array = model_data.values\n",
    "X = array[:,0:51]\n",
    "Y = array[:,51]\n",
    "num_folds = 96\n",
    "num_instances = len(X)\n",
    "loocv = model_selection.LeaveOneOut()\n",
    "model = LogisticRegression()\n",
    "#model=SVC(kernel='linear') # svc has problem\n",
    "#model = RandomForestClassifier()\n",
    "results = model_selection.cross_val_score(model, X, Y, cv=loocv)\n",
    "print(\"Accuracy: %.3f%%\" % (results.mean()*100.0))"
   ]
  },
  {
   "cell_type": "markdown",
   "metadata": {},
   "source": [
    "# K-fold Cross Validation"
   ]
  },
  {
   "cell_type": "code",
   "execution_count": 104,
   "metadata": {},
   "outputs": [
    {
     "name": "stdout",
     "output_type": "stream",
     "text": [
      "Accuracy: 47.111%\n"
     ]
    }
   ],
   "source": [
    "# Evaluate using Cross Validation\n",
    "array = model_data.values\n",
    "X = array[:,0:51]\n",
    "Y = array[:,51]\n",
    "num_instances = len(X)\n",
    "seed = 7\n",
    "kfold = model_selection.KFold(n_splits=10, random_state=seed)\n",
    "model = LogisticRegression()\n",
    "#model=SVC(kernel='linear')\n",
    "#model = RandomForestClassifier()\n",
    "results1 = model_selection.cross_val_score(model, X, Y, cv=kfold)\n",
    "print(\"Accuracy: %.3f%%\" % (results1.mean()*100.0))"
   ]
  },
  {
   "cell_type": "code",
   "execution_count": 105,
   "metadata": {},
   "outputs": [],
   "source": [
    "predictions_lr = lr.predict(x_test)\n",
    "predictions_svc = svc.predict(x_test)\n",
    "predictions_rf = rf.predict(x_test)"
   ]
  },
  {
   "cell_type": "markdown",
   "metadata": {},
   "source": [
    "# confusion_matrix"
   ]
  },
  {
   "cell_type": "code",
   "execution_count": 106,
   "metadata": {},
   "outputs": [],
   "source": [
    "y_actu = pd.Series(y_test, name='Actual')\n",
    "y_pred = pd.Series(predictions_rf, name='Predicted')\n",
    "#df_confusion = pd.crosstab(y_actu, y_pred)\n",
    "df_confusion = pd.crosstab(y_actu, y_pred, rownames=['Actual'], colnames=['Predicted'], margins=True)\n",
    "#pd.to_numeric(df_confusion.columns)\n",
    "#df_confusion.drop(['All'])\n",
    "#df_confusion=df_confusion.columns.drop(['All'])"
   ]
  },
  {
   "cell_type": "code",
   "execution_count": 107,
   "metadata": {},
   "outputs": [
    {
     "data": {
      "text/html": [
       "<div>\n",
       "<style scoped>\n",
       "    .dataframe tbody tr th:only-of-type {\n",
       "        vertical-align: middle;\n",
       "    }\n",
       "\n",
       "    .dataframe tbody tr th {\n",
       "        vertical-align: top;\n",
       "    }\n",
       "\n",
       "    .dataframe thead th {\n",
       "        text-align: right;\n",
       "    }\n",
       "</style>\n",
       "<table border=\"1\" class=\"dataframe\">\n",
       "  <thead>\n",
       "    <tr style=\"text-align: right;\">\n",
       "      <th>Predicted</th>\n",
       "      <th>-1.0</th>\n",
       "      <th>0.0</th>\n",
       "      <th>1.0</th>\n",
       "      <th>All</th>\n",
       "    </tr>\n",
       "    <tr>\n",
       "      <th>Actual</th>\n",
       "      <th></th>\n",
       "      <th></th>\n",
       "      <th></th>\n",
       "      <th></th>\n",
       "    </tr>\n",
       "  </thead>\n",
       "  <tbody>\n",
       "    <tr>\n",
       "      <th>-1.0</th>\n",
       "      <td>4</td>\n",
       "      <td>2</td>\n",
       "      <td>2</td>\n",
       "      <td>8</td>\n",
       "    </tr>\n",
       "    <tr>\n",
       "      <th>0.0</th>\n",
       "      <td>0</td>\n",
       "      <td>0</td>\n",
       "      <td>1</td>\n",
       "      <td>1</td>\n",
       "    </tr>\n",
       "    <tr>\n",
       "      <th>1.0</th>\n",
       "      <td>7</td>\n",
       "      <td>2</td>\n",
       "      <td>1</td>\n",
       "      <td>10</td>\n",
       "    </tr>\n",
       "    <tr>\n",
       "      <th>All</th>\n",
       "      <td>11</td>\n",
       "      <td>4</td>\n",
       "      <td>4</td>\n",
       "      <td>19</td>\n",
       "    </tr>\n",
       "  </tbody>\n",
       "</table>\n",
       "</div>"
      ],
      "text/plain": [
       "Predicted  -1.0  0.0  1.0  All\n",
       "Actual                        \n",
       "-1.0          4    2    2    8\n",
       "0.0           0    0    1    1\n",
       "1.0           7    2    1   10\n",
       "All          11    4    4   19"
      ]
     },
     "execution_count": 107,
     "metadata": {},
     "output_type": "execute_result"
    }
   ],
   "source": [
    "df_confusion"
   ]
  },
  {
   "cell_type": "code",
   "execution_count": 108,
   "metadata": {},
   "outputs": [],
   "source": [
    "class_taget=[-1,0,1]"
   ]
  },
  {
   "cell_type": "code",
   "execution_count": 109,
   "metadata": {},
   "outputs": [],
   "source": [
    "def TP_calculate(df_confusion, class_taget):\n",
    "    TP= [None] * 3\n",
    "    for t in class_taget:\n",
    "        for p in class_taget:\n",
    "            if t==p:\n",
    "                TP[p]=df_confusion[t][p]\n",
    "    return TP\n",
    "def TN_calculate(df_confusion, class_taget):\n",
    "    TN= [None] * 3\n",
    "    TN[-1]=0\n",
    "    TN[1]=0\n",
    "    TN[0]=0\n",
    "    for t in class_taget:\n",
    "        for p in class_taget:\n",
    "            if t!=-1 and p!=-1:\n",
    "                TN[-1]=TN[-1]+df_confusion[t][p]\n",
    "            if t!=1 and p!=1:\n",
    "                TN[1]=TN[1]+df_confusion[t][p]\n",
    "            if t!=0 and p!=0:\n",
    "                TN[0]=TN[0]+df_confusion[t][p]\n",
    "    return TN\n",
    "def FP_calculate(df_confusion, class_taget):\n",
    "    FP= [None] * 3\n",
    "    FP[-1]=0\n",
    "    FP[1]=0\n",
    "    FP[0]=0\n",
    "    for t in class_taget:\n",
    "        for p in class_taget:\n",
    "            if t==p:\n",
    "                continue\n",
    "            else:\n",
    "                FP[p]=FP[p]+df_confusion[t][p]\n",
    "    return FP\n",
    "def FN_calculate(df_confusion, class_taget):\n",
    "    FN= [None] * 3\n",
    "    FN[-1]=0\n",
    "    FN[1]=0\n",
    "    FN[0]=0\n",
    "    for t in class_taget:\n",
    "        for p in class_taget:\n",
    "            if t==p:\n",
    "                continue\n",
    "            else:\n",
    "                FN[t]=FN[t]+df_confusion[t][p]\n",
    "    return FN"
   ]
  },
  {
   "cell_type": "code",
   "execution_count": 110,
   "metadata": {},
   "outputs": [],
   "source": [
    "#TP=[None] * 3\n",
    "TP=TP_calculate(df_confusion,class_taget)\n",
    "TN=TN_calculate(df_confusion,class_taget)\n",
    "FP=FP_calculate(df_confusion,class_taget)\n",
    "FN=FN_calculate(df_confusion,class_taget)"
   ]
  },
  {
   "cell_type": "code",
   "execution_count": 111,
   "metadata": {},
   "outputs": [
    {
     "name": "stdout",
     "output_type": "stream",
     "text": [
      "[0, 1, 4] [14, 6, 4] [1, 9, 4] [4, 3, 7]\n"
     ]
    }
   ],
   "source": [
    "print(TP, TN,FP,FN)"
   ]
  },
  {
   "cell_type": "code",
   "execution_count": 112,
   "metadata": {},
   "outputs": [],
   "source": [
    "def sum_list(list_tp):\n",
    "    sum=0\n",
    "    for i in list_tp:\n",
    "        sum=sum+i\n",
    "    return sum"
   ]
  },
  {
   "cell_type": "code",
   "execution_count": 113,
   "metadata": {},
   "outputs": [],
   "source": [
    "precision=sum_list(TP)/float(sum_list(TP)+sum_list(FP))\n",
    "recall=sum_list(TP)/float(sum_list(TP)+sum_list(FN))\n",
    "accuracy=(sum_list(TP)+sum_list(TN))/float(sum_list(TP)+sum_list(TN)+sum_list(FP)+sum_list(FN))"
   ]
  },
  {
   "cell_type": "code",
   "execution_count": 114,
   "metadata": {},
   "outputs": [
    {
     "name": "stdout",
     "output_type": "stream",
     "text": [
      "0.5087719298245614\n"
     ]
    }
   ],
   "source": [
    "print(accuracy)"
   ]
  },
  {
   "cell_type": "code",
   "execution_count": 115,
   "metadata": {
    "scrolled": true
   },
   "outputs": [
    {
     "ename": "ModuleNotFoundError",
     "evalue": "No module named 'pandas_ml'",
     "output_type": "error",
     "traceback": [
      "\u001b[0;31m---------------------------------------------------------------------------\u001b[0m",
      "\u001b[0;31mModuleNotFoundError\u001b[0m                       Traceback (most recent call last)",
      "\u001b[0;32m<ipython-input-115-9e6ee531d440>\u001b[0m in \u001b[0;36m<module>\u001b[0;34m\u001b[0m\n\u001b[0;32m----> 1\u001b[0;31m \u001b[0;32mfrom\u001b[0m \u001b[0mpandas_ml\u001b[0m \u001b[0;32mimport\u001b[0m \u001b[0mConfusionMatrix\u001b[0m\u001b[0;34m\u001b[0m\u001b[0;34m\u001b[0m\u001b[0m\n\u001b[0m\u001b[1;32m      2\u001b[0m data={'y_Predicted': predictions_rf,\n\u001b[1;32m      3\u001b[0m        \u001b[0;34m'y_Actual'\u001b[0m\u001b[0;34m:\u001b[0m \u001b[0my_test\u001b[0m\u001b[0;34m\u001b[0m\u001b[0;34m\u001b[0m\u001b[0m\n\u001b[1;32m      4\u001b[0m         }\n\u001b[1;32m      5\u001b[0m \u001b[0mdf1\u001b[0m \u001b[0;34m=\u001b[0m \u001b[0mpd\u001b[0m\u001b[0;34m.\u001b[0m\u001b[0mDataFrame\u001b[0m\u001b[0;34m(\u001b[0m\u001b[0mdata\u001b[0m\u001b[0;34m,\u001b[0m \u001b[0mcolumns\u001b[0m\u001b[0;34m=\u001b[0m\u001b[0;34m[\u001b[0m\u001b[0;34m'y_Predicted'\u001b[0m\u001b[0;34m,\u001b[0m\u001b[0;34m'y_Actual'\u001b[0m\u001b[0;34m]\u001b[0m\u001b[0;34m)\u001b[0m\u001b[0;34m\u001b[0m\u001b[0;34m\u001b[0m\u001b[0m\n",
      "\u001b[0;31mModuleNotFoundError\u001b[0m: No module named 'pandas_ml'"
     ]
    }
   ],
   "source": [
    "from pandas_ml import ConfusionMatrix\n",
    "data={'y_Predicted': predictions_rf,\n",
    "       'y_Actual': y_test\n",
    "        }\n",
    "df1 = pd.DataFrame(data, columns=['y_Predicted','y_Actual'])\n",
    "Confusion_Matrix = ConfusionMatrix(df1['y_Actual'], df1['y_Predicted'])\n",
    "#Confusion_Matrix.print_stats()\n",
    "Confusion_Matrix.stats()"
   ]
  },
  {
   "cell_type": "markdown",
   "metadata": {},
   "source": [
    "# Theorytical idea about confusion matrix"
   ]
  },
  {
   "cell_type": "markdown",
   "metadata": {},
   "source": [
    "<img src=\"4.jpeg\">\n",
    "<img src=\"5.jpeg\">\n",
    "<img src=\"1.jpeg\">\n",
    "<img src=\"2.jpeg\">\n",
    "<img src=\"3.jpeg\">\n",
    "<img src=\"6.jpeg\">"
   ]
  },
  {
   "cell_type": "code",
   "execution_count": 116,
   "metadata": {},
   "outputs": [
    {
     "name": "stdout",
     "output_type": "stream",
     "text": [
      "              precision    recall  f1-score   support\n",
      "\n",
      "        -1.0       0.36      0.50      0.42         8\n",
      "         0.0       0.00      0.00      0.00         1\n",
      "         1.0       0.25      0.10      0.14        10\n",
      "\n",
      "    accuracy                           0.26        19\n",
      "   macro avg       0.20      0.20      0.19        19\n",
      "weighted avg       0.28      0.26      0.25        19\n",
      "\n"
     ]
    }
   ],
   "source": [
    "from sklearn.metrics import confusion_matrix\n",
    "from sklearn.metrics import classification_report\n",
    "print(classification_report(y_test, predictions_rf))"
   ]
  },
  {
   "cell_type": "code",
   "execution_count": 117,
   "metadata": {},
   "outputs": [],
   "source": [
    "def match_prediction(wc, team1, team2, model):\n",
    "    match = pd.DataFrame(columns=['fifa_rank1','gdp1','population1','elo1','avg_age1','home_country_adv1','home_continent_adv1','last_best_performance1','star_count1','coach_performance1','final1','semi1','foreign_club1','att1','def1','mid1','ovr1', 'fifa_rank2','gdp2','population2','elo2','avg_age2','home_country_adv2','home_continent_adv2','last_best_performance2','star_count2','coach_performance2','final2','semi2','foreign_club2','att2','def2','mid2','ovr2']\n",
    ", index=[0])\n",
    "    match['fifa_rank1'] = wc[wc.country == team1]['fifa_rank'].iloc[0]\n",
    "    match['gdp1'] = wc[wc.country == team1]['gdp_rank'].iloc[0]\n",
    "    match['population1'] = wc[wc.country == team1]['population_rank'].iloc[0]\n",
    "    match['elo1'] = wc[wc.country == team1]['elo_ranking'].iloc[0]\n",
    "    match['avg_age1'] = wc[wc.country == team1]['avg_age'].iloc[0]\n",
    "    match['home_country_adv1'] = wc[wc.country == team1]['home_country_adv'].iloc[0]\n",
    "    match['home_continent_adv1'] = wc[wc.country == team1]['home_continent_adv'].iloc[0]\n",
    "    match['last_best_performance1'] = wc[wc.country == team1]['last_best_performance'].iloc[0]\n",
    "    match['star_count1'] = wc[wc.country == team1]['star_count'].iloc[0]\n",
    "    match['coach_performance1'] = wc[wc.country == team1]['coach_performance'].iloc[0]\n",
    "    match['final1'] = wc[wc.country == team1]['Previous_final'].iloc[0]\n",
    "    match['semi1'] = wc[wc.country == team1]['Previous_semi_final'].iloc[0]\n",
    "    match['foreign_club1'] = wc[wc.country == team1]['% of player in foreign club'].iloc[0]\n",
    "    match['att1'] = wc[wc.country == team1]['att'].iloc[0]\n",
    "    match['def1'] = wc[wc.country == team1]['def'].iloc[0]\n",
    "    match['mid1'] = wc[wc.country == team1]['mid'].iloc[0]\n",
    "    match['ovr1'] = wc[wc.country == team1]['ovr'].iloc[0]\n",
    "    \n",
    "    match['power_index1'] = wc[wc.country == team1]['spi'].iloc[0]\n",
    "    match['offensive1'] = wc[wc.country == team1]['global_o'].iloc[0]\n",
    "    match['defensive1'] = wc[wc.country == team1]['global_d'].iloc[0]\n",
    "    match['avg_players_appearance1'] = wc[wc.country == team1]['avg_players_appearance'].iloc[0]\n",
    "    match['avg_players_goal1'] = wc[wc.country == team1]['avg_players_goal'].iloc[0]\n",
    "    match['country_happiness_rank1'] = wc[wc.country == team1]['Happiness.Rank'].iloc[0]\n",
    "    \n",
    "    match['fifa_rank2'] = wc[wc.country == team2]['fifa_rank'].iloc[0]\n",
    "    match['gdp2'] = wc[wc.country == team2]['gdp_rank'].iloc[0]\n",
    "    match['population2'] = wc[wc.country == team2]['population_rank'].iloc[0]\n",
    "    match['elo2'] = wc[wc.country == team2]['elo_ranking'].iloc[0]\n",
    "    match['avg_age2'] = wc[wc.country == team2]['avg_age'].iloc[0]\n",
    "    match['home_country_adv2'] = wc[wc.country == team2]['home_country_adv'].iloc[0]\n",
    "    match['home_continent_adv2'] = wc[wc.country == team2]['home_continent_adv'].iloc[0]\n",
    "    match['last_best_performance2'] = wc[wc.country == team2]['last_best_performance'].iloc[0]\n",
    "    match['star_count2'] = wc[wc.country == team2]['star_count'].iloc[0]\n",
    "    match['coach_performance2'] = wc[wc.country == team2]['coach_performance'].iloc[0]\n",
    "    match['final2'] = wc[wc.country == team2]['Previous_final'].iloc[0]\n",
    "    match['semi2'] = wc[wc.country == team2]['Previous_semi_final'].iloc[0]\n",
    "    match['foreign_club2'] = wc[wc.country == team2]['% of player in foreign club'].iloc[0]\n",
    "    match['att2'] = wc[wc.country == team2]['att'].iloc[0]\n",
    "    match['def2'] = wc[wc.country == team2]['def'].iloc[0]\n",
    "    match['mid2'] = wc[wc.country == team2]['mid'].iloc[0]\n",
    "    match['ovr2'] = wc[wc.country == team2]['ovr'].iloc[0]\n",
    "    \n",
    "    match['power_index2'] = wc[wc.country == team1]['spi'].iloc[0]\n",
    "    match['offensive2'] = wc[wc.country == team1]['global_o'].iloc[0]\n",
    "    match['defensive2'] = wc[wc.country == team1]['global_d'].iloc[0]\n",
    "    match['avg_players_appearance2'] = wc[wc.country == team1]['avg_players_appearance'].iloc[0]\n",
    "    match['avg_players_goal2'] = wc[wc.country == team1]['avg_players_goal'].iloc[0]\n",
    "    match['country_happiness_rank2'] = wc[wc.country == team1]['Happiness.Rank'].iloc[0]\n",
    "   \n",
    "    match['fifa_rank'] = match['fifa_rank1'] - match['fifa_rank2']\n",
    "    match['gdp'] = match['gdp1'] - match['gdp2']\n",
    "    match['population'] = match['population1'] - match['population2']\n",
    "    match['avg_age'] = match['avg_age1'] - match['avg_age2']\n",
    "    match['elo'] = match['elo1'] - match['elo2']\n",
    "    match['home_country_adv'] = match['home_country_adv1'] - match['home_country_adv2']\n",
    "    match['home_continent_adv'] = match['home_continent_adv1'] - match['home_continent_adv2']\n",
    "    match['last_best_performance'] = match['last_best_performance1'] - match['last_best_performance2']\n",
    "    match['star_count'] = match['star_count1'] - match['star_count2']\n",
    "    match['coach_performance'] = match['coach_performance1'] - match['coach_performance2']\n",
    "    match['foreign_club'] = match['foreign_club1'] - match['foreign_club2']\n",
    "    match['final'] = match['final1'] - match['final2']\n",
    "    match['semi'] = match['semi1'] - match['semi2']\n",
    "    match['def'] = match['def1'] - match['def2']\n",
    "    match['att'] = match['att1'] - match['att2']\n",
    "    match['mid'] = match['mid1'] - match['mid2']\n",
    "    match['ovr'] = match['ovr1'] - match['ovr2']\n",
    "    match['power_index'] = match['power_index1']-match['power_index2']\n",
    "    match['offensive'] = match['offensive1']-match['offensive2']\n",
    "    match['defensive'] = match['defensive1']-match['defensive2']\n",
    "    match['avg_players_appearance'] = match['avg_players_appearance1']-match['avg_players_appearance2']\n",
    "    match['avg_players_goal1'] = match['avg_players_goal1']-match['avg_players_goal2']\n",
    "    match['country_happiness_rank'] = match['country_happiness_rank1']-match['country_happiness_rank2']\n",
    "\n",
    "   \n",
    "    match_array = match.values\n",
    "    \n",
    "    predict_fract=model.predict_proba(match_array)\n",
    "    prediction = model.predict(match_array)\n",
    "    #print(predict_fract)\n",
    "    \n",
    "    winner = None\n",
    "    \n",
    "    if prediction == 1:\n",
    "        print(\"Winner: \" + team1)\n",
    "    elif prediction == -1:\n",
    "        print(\"Winner: \" + team2)\n",
    "    else:\n",
    "        print(\"The match will be draw\")\n",
    "    \n",
    "    \n",
    "    print(\"*** Probability ***\")\n",
    "    print(\"The probability of winning \"+team1+ \" \"+ '%.2f'%(predict_fract[0][2]*100)+\"%\")\n",
    "    print(\"The probability of winning \"+team2+ \" \" +'%.2f'%(predict_fract[0][0]*100)+\"%\")\n",
    "    print(\"The probability of draw: \" '%.2f'%(predict_fract[0][1]*100)+\"%\")\n",
    "   "
   ]
  },
  {
   "cell_type": "code",
   "execution_count": 118,
   "metadata": {},
   "outputs": [
    {
     "name": "stdout",
     "output_type": "stream",
     "text": [
      "Winner: england\n",
      "*** Probability ***\n",
      "The probability of winning sweden 30.00%\n",
      "The probability of winning england 60.00%\n",
      "The probability of draw: 10.00%\n"
     ]
    }
   ],
   "source": [
    "match_prediction(integrate_features, 'sweden', 'england', rf)"
   ]
  },
  {
   "cell_type": "code",
   "execution_count": 119,
   "metadata": {},
   "outputs": [
    {
     "name": "stdout",
     "output_type": "stream",
     "text": [
      "Winner: croatia\n",
      "*** Probability ***\n",
      "The probability of winning croatia 40.00%\n",
      "The probability of winning denmark 30.00%\n",
      "The probability of draw: 30.00%\n"
     ]
    }
   ],
   "source": [
    "match_prediction(integrate_features, 'croatia', 'denmark', rf)\n"
   ]
  },
  {
   "cell_type": "code",
   "execution_count": 120,
   "metadata": {},
   "outputs": [
    {
     "name": "stdout",
     "output_type": "stream",
     "text": [
      "Winner: spain\n",
      "*** Probability ***\n",
      "The probability of winning spain 40.00%\n",
      "The probability of winning russia 30.00%\n",
      "The probability of draw: 30.00%\n"
     ]
    }
   ],
   "source": [
    "match_prediction(integrate_features, 'spain', 'russia', rf)"
   ]
  },
  {
   "cell_type": "code",
   "execution_count": 121,
   "metadata": {},
   "outputs": [
    {
     "name": "stdout",
     "output_type": "stream",
     "text": [
      "Winner: russia\n",
      "*** Probability ***\n",
      "The probability of winning russia 50.00%\n",
      "The probability of winning croatia 30.00%\n",
      "The probability of draw: 20.00%\n"
     ]
    }
   ],
   "source": [
    "match_prediction(integrate_features,'russia','croatia',rf)"
   ]
  },
  {
   "cell_type": "code",
   "execution_count": 122,
   "metadata": {},
   "outputs": [
    {
     "name": "stdout",
     "output_type": "stream",
     "text": [
      "Winner: uruguay\n",
      "*** Probability ***\n",
      "The probability of winning uruguay 40.00%\n",
      "The probability of winning portugal 30.00%\n",
      "The probability of draw: 30.00%\n"
     ]
    }
   ],
   "source": [
    "match_prediction(integrate_features, 'uruguay', 'portugal', rf)"
   ]
  },
  {
   "cell_type": "code",
   "execution_count": 123,
   "metadata": {},
   "outputs": [
    {
     "name": "stdout",
     "output_type": "stream",
     "text": [
      "The match will be draw\n",
      "*** Probability ***\n",
      "The probability of winning brazil 30.00%\n",
      "The probability of winning mexico 30.00%\n",
      "The probability of draw: 40.00%\n"
     ]
    }
   ],
   "source": [
    "match_prediction(integrate_features, 'brazil', 'mexico', rf)"
   ]
  },
  {
   "cell_type": "code",
   "execution_count": null,
   "metadata": {},
   "outputs": [],
   "source": []
  },
  {
   "cell_type": "code",
   "execution_count": null,
   "metadata": {},
   "outputs": [],
   "source": []
  },
  {
   "cell_type": "code",
   "execution_count": null,
   "metadata": {},
   "outputs": [],
   "source": []
  }
 ],
 "metadata": {
  "celltoolbar": "Tags",
  "kernelspec": {
   "display_name": "Python 3",
   "language": "python",
   "name": "python3"
  },
  "language_info": {
   "codemirror_mode": {
    "name": "ipython",
    "version": 3
   },
   "file_extension": ".py",
   "mimetype": "text/x-python",
   "name": "python",
   "nbconvert_exporter": "python",
   "pygments_lexer": "ipython3",
   "version": "3.7.3"
  }
 },
 "nbformat": 4,
 "nbformat_minor": 2
}
